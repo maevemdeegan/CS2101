{
 "cells": [
  {
   "cell_type": "code",
   "execution_count": 1,
   "metadata": {},
   "outputs": [
    {
     "name": "stdout",
     "output_type": "stream",
     "text": [
      "Populating the interactive namespace from numpy and matplotlib\n"
     ]
    }
   ],
   "source": [
    "%pylab inline"
   ]
  },
  {
   "cell_type": "code",
   "execution_count": null,
   "metadata": {},
   "outputs": [],
   "source": [
    "import random"
   ]
  },
  {
   "cell_type": "markdown",
   "metadata": {},
   "source": [
    "# Lab 1 - basic image manipulation\n",
    "\n"
   ]
  },
  {
   "cell_type": "markdown",
   "metadata": {},
   "source": [
    "We'll use a sample image to allow you to test the functions that you write. \n",
    "\n",
    "(The image is created by Stephen \"Redshrike\" Challener as graphic artist and William.Thompsonj as contributor, and is released under a Creative Commons CC-BY 4.0 License. It is a 64x64 pixel image.)"
   ]
  },
  {
   "cell_type": "code",
   "execution_count": 12,
   "metadata": {},
   "outputs": [
    {
     "data": {
      "text/plain": [
       "<matplotlib.image.AxesImage at 0x7f9ee36d1470>"
      ]
     },
     "execution_count": 12,
     "metadata": {},
     "output_type": "execute_result"
    },
    {
     "data": {
      "image/png": "[encoded data removed]",
      "text/plain": [
       "<Figure size 360x360 with 1 Axes>"
      ]
     },
     "metadata": {},
     "output_type": "display_data"
    }
   ],
   "source": [
    "howl = plt.imread('howl.ppm')\n",
    "plt.figure(figsize=(5,5))\n",
    "plt.imshow(howl)"
   ]
  },
  {
   "cell_type": "markdown",
   "metadata": {},
   "source": [
    "## Inverting an image\n",
    "\n",
    "The first task is to write a function that takes a value $i$ of type `uint8`and returns $255- i$. If we apply this to a colour intensity it will invert the intensity; zero intensity becomes full intensity and vice versa. "
   ]
  },
  {
   "cell_type": "code",
   "execution_count": null,
   "metadata": {},
   "outputs": [],
   "source": [
    "def invert(i):\n",
    "    pass"
   ]
  },
  {
   "cell_type": "markdown",
   "metadata": {},
   "source": [
    "Next you can use the function `invert` to invert all the colour channels of an image."
   ]
  },
  {
   "cell_type": "code",
   "execution_count": null,
   "metadata": {},
   "outputs": [],
   "source": [
    "def invert_image(im):\n",
    "    pass"
   ]
  },
  {
   "cell_type": "code",
   "execution_count": null,
   "metadata": {},
   "outputs": [],
   "source": [
    "plt.figure(figsize=(5,5))\n",
    "plt.imshow(invert_image(howl))"
   ]
  },
  {
   "cell_type": "markdown",
   "metadata": {},
   "source": [
    "## Converting an image to greyscale\n",
    "\n",
    "In the next task you will write a function `greyscale` that takes an image and returns a greyscale version of that image. This is done by letting every pixel have an equal intensity of red, green, and blue in the greyscale. That common intensity should be the average of the red, green, and blue in the original image."
   ]
  },
  {
   "cell_type": "code",
   "execution_count": null,
   "metadata": {},
   "outputs": [],
   "source": [
    "def greyscale(im):\n",
    "    pass"
   ]
  },
  {
   "cell_type": "code",
   "execution_count": null,
   "metadata": {},
   "outputs": [],
   "source": [
    "plt.figure(figsize=(5,5))\n",
    "plt.imshow(greyscale(howl))"
   ]
  },
  {
   "cell_type": "markdown",
   "metadata": {},
   "source": [
    "## Quantizing an image\n",
    "\n",
    "If we use `uint8` as the type of the colour intensities, that means that there are $256^3 = 2^24 = 16777216$ different colours that a pixel can have. In this part of the lab, you'll write a function that reduces the quality of an image by grouping similar intensities together by giving them a common value."
   ]
  },
  {
   "cell_type": "markdown",
   "metadata": {},
   "source": [
    "### Quantizing a single value\n",
    "\n",
    "Your first subtask is to write a function `quantize()` that takes a `uint8` value and a parameter `bits` that determines how many different 'bins' of values we create.\n",
    "\n",
    "For example: if `bits` has the value 6, there should be $2^6 = 64$ bins, and we let the values `0,1,2,3` be grouped together to give the result `0`, the values `4,5,6,7` should all return `4`, and so on.\n",
    "\n",
    "If `bits` instead have the value `4`, there should be $2^4 = 16$ bins, and the values `0,1,...,15` should return `0`; the values `16,17,...,31` should all return `16` etc."
   ]
  },
  {
   "cell_type": "code",
   "execution_count": null,
   "metadata": {},
   "outputs": [],
   "source": [
    "def quantize(val, bits):\n",
    "    pass"
   ]
  },
  {
   "cell_type": "code",
   "execution_count": null,
   "metadata": {},
   "outputs": [],
   "source": []
  },
  {
   "cell_type": "code",
   "execution_count": null,
   "metadata": {},
   "outputs": [],
   "source": []
  },
  {
   "cell_type": "markdown",
   "metadata": {},
   "source": [
    "### Quantizing an image\n",
    "\n",
    "The next task is to write a function `quantize_image()` that takes two arguments, the image to quantize, and again a `bits` parameter, that determines how coarsly we quantize the colours in the image."
   ]
  },
  {
   "cell_type": "code",
   "execution_count": null,
   "metadata": {},
   "outputs": [],
   "source": [
    "def quantize_image(im, bits):\n",
    "    pass"
   ]
  },
  {
   "cell_type": "code",
   "execution_count": null,
   "metadata": {},
   "outputs": [],
   "source": [
    "plt.figure(figsize=(5,5))\n",
    "plt.imshow(quantize_image(howl, 4))"
   ]
  },
  {
   "cell_type": "markdown",
   "metadata": {},
   "source": []
  },
  {
   "cell_type": "markdown",
   "metadata": {},
   "source": [
    "## Downsampling/Upsampling\n",
    "\n"
   ]
  },
  {
   "cell_type": "markdown",
   "metadata": {},
   "source": [
    "### Upsampling\n",
    "\n",
    "By upsampling in here we mean that we take an original image, and where each pixel is replaced by a $n \\times n$ block of pixels in the new image. Each pixel in the block is identical to the original pixel. "
   ]
  },
  {
   "cell_type": "code",
   "execution_count": null,
   "metadata": {},
   "outputs": [],
   "source": [
    "def upsample(im, n):\n",
    "    \"\"\"Return a new image where each pixel of 'im' has been replaced by an n-by-n block of identical pixels\"\"\"\n",
    "    pass"
   ]
  },
  {
   "cell_type": "code",
   "execution_count": null,
   "metadata": {},
   "outputs": [],
   "source": []
  },
  {
   "cell_type": "code",
   "execution_count": null,
   "metadata": {},
   "outputs": [],
   "source": [
    "plt.figure(figsize=(5,5))\n",
    "plt.imshow(upsample(howl, 4))"
   ]
  },
  {
   "cell_type": "markdown",
   "metadata": {},
   "source": [
    "### Downsampling\n",
    "\n",
    "When we downsample an image `im`, we divide the image into blocks of size $n \\times n$, and compute the average colour intensities in these blocks. Each such block then gives rise to a single pixel in ther resulting image.\n",
    "\n",
    "Note that first upsampling with a factor `n` and then downsampling with the same factor should return an image identical to the original, whereas first downsampling and then upsampling does not return an identical image."
   ]
  },
  {
   "cell_type": "code",
   "execution_count": null,
   "metadata": {},
   "outputs": [],
   "source": [
    "def downsample(im, n):\n",
    "     \"\"\"Return a new image where each n-by-n block has been replaced by a single pixel, obtained by\n",
    "     averaging over the relevant block\"\"\"\n",
    "    pass"
   ]
  },
  {
   "cell_type": "code",
   "execution_count": null,
   "metadata": {},
   "outputs": [],
   "source": [
    "plt.figure(figsize=(5,5))\n",
    "plt.imshow(downsample(howl, 4))"
   ]
  },
  {
   "cell_type": "markdown",
   "metadata": {},
   "source": [
    "# Noise\n",
    "\n",
    "In this last part of the assignment, you will write a function to add noise to an image. By this we mean that we add a random number to each colour channel of each pixel.\n",
    "\n",
    "The call `noisify(im, sigma)` should add a normally distributed random number with mean value 0 and standard deviation `sigma` to each entry in the array representing the image `im`.\n",
    "\n",
    "Make sure that:\n",
    "\n",
    "1. The result after adding is converted to a `uint8`.\n",
    "2. The result is in the interval 0 to 255."
   ]
  },
  {
   "cell_type": "code",
   "execution_count": null,
   "metadata": {},
   "outputs": [],
   "source": [
    "def noisify(im, sigma):\n",
    "    pass"
   ]
  },
  {
   "cell_type": "code",
   "execution_count": null,
   "metadata": {},
   "outputs": [],
   "source": [
    "plt.figure(figsize=(5,5))\n",
    "plt.imshow(noisify(howl, 4))"
   ]
  }
 ],
 "metadata": {
  "kernelspec": {
   "display_name": "Python 3",
   "language": "python",
   "name": "python3"
  },
  "language_info": {
   "codemirror_mode": {
    "name": "ipython",
    "version": 3
   },
   "file_extension": ".py",
   "mimetype": "text/x-python",
   "name": "python",
   "nbconvert_exporter": "python",
   "pygments_lexer": "ipython3",
   "version": "3.6.5"
  }
 },
 "nbformat": 4,
 "nbformat_minor": 2
}
