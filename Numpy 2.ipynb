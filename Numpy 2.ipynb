{
 "cells": [
  {
   "cell_type": "code",
   "execution_count": 1,
   "metadata": {},
   "outputs": [],
   "source": [
    "# The standard import\n",
    "import numpy as np"
   ]
  },
  {
   "cell_type": "markdown",
   "metadata": {},
   "source": [
    "# Array operation\n",
    "\n",
    "The ususal algebraic operation on matrices are implemented:\n",
    "\n",
    "1. Addition `+`\n",
    "2. Subtraction `-`\n",
    "\n",
    "__Note__: the multiplication `*` is __not__ the usual matrix multiplication, but instead termwise multiplication (the Hadamard product).\n",
    "\n",
    "If we want to multiply two matrices we use the `@` operator."
   ]
  },
  {
   "cell_type": "code",
   "execution_count": 2,
   "metadata": {},
   "outputs": [
    {
     "name": "stdout",
     "output_type": "stream",
     "text": [
      "[[ 5  2  1]\n",
      " [ 0  3  2]\n",
      " [ 9 -1 -2]]\n"
     ]
    }
   ],
   "source": [
    "# create a matrix\n",
    "a = np.array([[5,2,1],[0,3,2],[9,-1,-2]])\n",
    "print(a)"
   ]
  },
  {
   "cell_type": "code",
   "execution_count": 3,
   "metadata": {},
   "outputs": [
    {
     "name": "stdout",
     "output_type": "stream",
     "text": [
      "[[ 0  1 -1]\n",
      " [ 1 -2  3]\n",
      " [ 1 -1 -1]]\n"
     ]
    }
   ],
   "source": [
    "# create a second matrix\n",
    "b = np.array([[0,1,-1],[1,-2,3],[1,-1,-1]])\n",
    "print(b)"
   ]
  },
  {
   "cell_type": "code",
   "execution_count": 4,
   "metadata": {},
   "outputs": [
    {
     "data": {
      "text/plain": [
       "array([[ 5,  3,  0],\n",
       "       [ 1,  1,  5],\n",
       "       [10, -2, -3]])"
      ]
     },
     "execution_count": 4,
     "metadata": {},
     "output_type": "execute_result"
    }
   ],
   "source": [
    "# add them\n",
    "a + b"
   ]
  },
  {
   "cell_type": "code",
   "execution_count": 5,
   "metadata": {},
   "outputs": [
    {
     "data": {
      "text/plain": [
       "array([[ 5,  1,  2],\n",
       "       [-1,  5, -1],\n",
       "       [ 8,  0, -1]])"
      ]
     },
     "execution_count": 5,
     "metadata": {},
     "output_type": "execute_result"
    }
   ],
   "source": [
    "# subtract\n",
    "a - b"
   ]
  },
  {
   "cell_type": "code",
   "execution_count": 6,
   "metadata": {},
   "outputs": [
    {
     "data": {
      "text/plain": [
       "array([[ 0,  2, -1],\n",
       "       [ 0, -6,  6],\n",
       "       [ 9,  1,  2]])"
      ]
     },
     "execution_count": 6,
     "metadata": {},
     "output_type": "execute_result"
    }
   ],
   "source": [
    "# hadamard product\n",
    "a * b"
   ]
  },
  {
   "cell_type": "code",
   "execution_count": 7,
   "metadata": {},
   "outputs": [
    {
     "data": {
      "text/plain": [
       "array([[  3,   0,   0],\n",
       "       [  5,  -8,   7],\n",
       "       [ -3,  13, -10]])"
      ]
     },
     "execution_count": 7,
     "metadata": {},
     "output_type": "execute_result"
    }
   ],
   "source": [
    "# matrix multiplication\n",
    "a @ b"
   ]
  },
  {
   "cell_type": "markdown",
   "metadata": {},
   "source": [
    "### Conditions\n",
    "\n",
    "We can find all the positions whose entries satisfy some condition, as well as the entries in question.\n"
   ]
  },
  {
   "cell_type": "code",
   "execution_count": 8,
   "metadata": {},
   "outputs": [
    {
     "name": "stdout",
     "output_type": "stream",
     "text": [
      "[[ 5  2  1]\n",
      " [ 0  3  2]\n",
      " [ 9 -1 -2]]\n"
     ]
    }
   ],
   "source": [
    "# create an array\n",
    "print(a)"
   ]
  },
  {
   "cell_type": "markdown",
   "metadata": {},
   "source": [
    "To find the location of, e.g., the entries greater than or equal to 3, we can just do `a >= 3`."
   ]
  },
  {
   "cell_type": "code",
   "execution_count": 9,
   "metadata": {},
   "outputs": [
    {
     "data": {
      "text/plain": [
       "array([[ True, False, False],\n",
       "       [False,  True, False],\n",
       "       [ True, False, False]])"
      ]
     },
     "execution_count": 9,
     "metadata": {},
     "output_type": "execute_result"
    }
   ],
   "source": [
    "a >= 3"
   ]
  },
  {
   "cell_type": "code",
   "execution_count": 10,
   "metadata": {},
   "outputs": [
    {
     "data": {
      "text/plain": [
       "array([[False, False, False],\n",
       "       [ True,  True, False],\n",
       "       [ True, False, False]])"
      ]
     },
     "execution_count": 10,
     "metadata": {},
     "output_type": "execute_result"
    }
   ],
   "source": [
    "# the locations of the  elements divisible by 3\n",
    "a % 3 == 0"
   ]
  },
  {
   "cell_type": "markdown",
   "metadata": {},
   "source": [
    "We can then use this to access the elements in question. Note that we get a 1D-array back."
   ]
  },
  {
   "cell_type": "code",
   "execution_count": 11,
   "metadata": {},
   "outputs": [
    {
     "data": {
      "text/plain": [
       "array([0, 3, 9])"
      ]
     },
     "execution_count": 11,
     "metadata": {},
     "output_type": "execute_result"
    }
   ],
   "source": [
    "a[a % 3 == 0]"
   ]
  },
  {
   "cell_type": "code",
   "execution_count": 12,
   "metadata": {},
   "outputs": [
    {
     "data": {
      "text/plain": [
       "-1"
      ]
     },
     "execution_count": 12,
     "metadata": {},
     "output_type": "execute_result"
    }
   ],
   "source": [
    "# general indexing\n",
    "a[2,1]"
   ]
  },
  {
   "cell_type": "markdown",
   "metadata": {},
   "source": [
    "### Creating new arrays from existing arrays\n",
    "\n",
    "Two ways are\n",
    "\n",
    "1. Slicing\n",
    "2. Combining arrays"
   ]
  },
  {
   "cell_type": "markdown",
   "metadata": {},
   "source": [
    "#### Slicing\n",
    "\n",
    "We can use the standard slicing operator for numpy arrays."
   ]
  },
  {
   "cell_type": "code",
   "execution_count": 13,
   "metadata": {
    "scrolled": true
   },
   "outputs": [
    {
     "data": {
      "text/plain": [
       "array([[ 3,  2],\n",
       "       [-1, -2]])"
      ]
     },
     "execution_count": 13,
     "metadata": {},
     "output_type": "execute_result"
    }
   ],
   "source": [
    "# slice the array a\n",
    "\n",
    "# the 2x2 in the  bottom right corner\n",
    "a[1:3,1:3]"
   ]
  },
  {
   "cell_type": "code",
   "execution_count": null,
   "metadata": {},
   "outputs": [],
   "source": []
  },
  {
   "cell_type": "markdown",
   "metadata": {},
   "source": [
    "### Combining\n",
    "\n",
    "1. `np.vstack()` stack matrices vertically\n",
    "2. `np.hstack()` stack matrices horizontally\n"
   ]
  },
  {
   "cell_type": "markdown",
   "metadata": {},
   "source": [
    "#### Vertical stack\n",
    "\n",
    "Let\n",
    "$$\n",
    "A = \\begin{pmatrix}\n",
    "5  & 2  &  1 \\\\\n",
    "0  & 3  &  2 \\\\\n",
    "9 & -1  & -2\n",
    "\\end{pmatrix}\n",
    "\\quad\n",
    "B =\n",
    "\\begin{pmatrix}\n",
    "0 &  1 & -1 \\\\\n",
    "1 & -2 &  3 \\\\\n",
    "1 & -1 & -1\n",
    "\\end{pmatrix}\n",
    "$$\n",
    "Then, by vertically stacking them, we mean the matrix\n",
    "$$\n",
    "\\begin{pmatrix}\n",
    "A \\\\\n",
    "B\n",
    "\\end{pmatrix} =\n",
    "\\begin{pmatrix}\n",
    "5  & 2  &  1 \\\\\n",
    "0  & 3  &  2 \\\\\n",
    "9 & -1  & -2 \\\\\n",
    "0 &  1 & -1 \\\\\n",
    "1 & -2 &  3 \\\\\n",
    "1 & -1 & -1\n",
    "\\end{pmatrix}\n",
    "$$"
   ]
  },
  {
   "cell_type": "code",
   "execution_count": 14,
   "metadata": {
    "scrolled": true
   },
   "outputs": [
    {
     "name": "stdout",
     "output_type": "stream",
     "text": [
      "[[ 5  2  1]\n",
      " [ 0  3  2]\n",
      " [ 9 -1 -2]] \n",
      "\n",
      " [[ 0  1 -1]\n",
      " [ 1 -2  3]\n",
      " [ 1 -1 -1]]\n"
     ]
    }
   ],
   "source": [
    "print(a,'\\n\\n',b)"
   ]
  },
  {
   "cell_type": "code",
   "execution_count": 15,
   "metadata": {
    "scrolled": false
   },
   "outputs": [
    {
     "data": {
      "text/plain": [
       "array([[ 5,  2,  1],\n",
       "       [ 0,  3,  2],\n",
       "       [ 9, -1, -2],\n",
       "       [ 0,  1, -1],\n",
       "       [ 1, -2,  3],\n",
       "       [ 1, -1, -1]])"
      ]
     },
     "execution_count": 15,
     "metadata": {},
     "output_type": "execute_result"
    }
   ],
   "source": [
    "# stack vertically\n",
    "np.vstack((a,b))"
   ]
  },
  {
   "cell_type": "markdown",
   "metadata": {},
   "source": [
    "#### Horizontal stacking\n",
    "\n",
    "With the same $A$ and $B$, their horizontal stacking is\n",
    "$$\n",
    "\\begin{pmatrix}\n",
    "A B\n",
    "\\end{pmatrix} \n",
    "=\n",
    "\\begin{pmatrix}\n",
    "5 &   2 &  1 &  0 &  1 & -1 &  5 &  2 &  1 \\\\\n",
    "0 &  3 &  2 &  1 & -2 &  3 &  0 &  3 &  2 \\\\\n",
    "9 & -1 & -2 &  1 & -1 & -1 &  9 & -1 & -2\n",
    "\\end{pmatrix}\n",
    "$$"
   ]
  },
  {
   "cell_type": "code",
   "execution_count": 16,
   "metadata": {},
   "outputs": [
    {
     "data": {
      "text/plain": [
       "array([[ 5,  2,  1,  0,  1, -1,  5,  2,  1],\n",
       "       [ 0,  3,  2,  1, -2,  3,  0,  3,  2],\n",
       "       [ 9, -1, -2,  1, -1, -1,  9, -1, -2]])"
      ]
     },
     "execution_count": 16,
     "metadata": {},
     "output_type": "execute_result"
    }
   ],
   "source": [
    "# and horizontally\n",
    "np.hstack((a,b,a))"
   ]
  },
  {
   "cell_type": "markdown",
   "metadata": {},
   "source": [
    "## Deep and shallow copies\n",
    "\n",
    "By default, numpy makes \"shallow\" copies, which means that you have to be careful when you mutate elements.\n",
    "\n",
    "The `.copy()` method on the other hand creates a completely new array."
   ]
  },
  {
   "cell_type": "code",
   "execution_count": 17,
   "metadata": {},
   "outputs": [
    {
     "name": "stdout",
     "output_type": "stream",
     "text": [
      "[[ 5  2  1]\n",
      " [ 0  3  2]\n",
      " [ 9 -1 -2]]\n"
     ]
    }
   ],
   "source": [
    "print(a)"
   ]
  },
  {
   "cell_type": "code",
   "execution_count": 18,
   "metadata": {},
   "outputs": [
    {
     "data": {
      "text/plain": [
       "array([[0, 1],\n",
       "       [1, 0]])"
      ]
     },
     "execution_count": 18,
     "metadata": {},
     "output_type": "execute_result"
    }
   ],
   "source": [
    "# use the slice example\n",
    "c = np.array([[0,1],[1,0]])\n",
    "c"
   ]
  },
  {
   "cell_type": "code",
   "execution_count": 19,
   "metadata": {},
   "outputs": [
    {
     "data": {
      "text/plain": [
       "array([[ 3,  2],\n",
       "       [-1, -2]])"
      ]
     },
     "execution_count": 19,
     "metadata": {},
     "output_type": "execute_result"
    }
   ],
   "source": [
    "d = a[1:3,1:3]\n",
    "d\n",
    "#a[1:3,1:3]"
   ]
  },
  {
   "cell_type": "code",
   "execution_count": 20,
   "metadata": {},
   "outputs": [],
   "source": [
    "a[1:3,1:3] = c"
   ]
  },
  {
   "cell_type": "code",
   "execution_count": 21,
   "metadata": {},
   "outputs": [
    {
     "data": {
      "text/plain": [
       "array([[5, 2, 1],\n",
       "       [0, 0, 1],\n",
       "       [9, 1, 0]])"
      ]
     },
     "execution_count": 21,
     "metadata": {},
     "output_type": "execute_result"
    }
   ],
   "source": [
    "a"
   ]
  },
  {
   "cell_type": "markdown",
   "metadata": {},
   "source": [
    "## Transposing and reshaping arrays\n",
    "\n",
    "Two useful methods for reshaping an array are `.reshape()` and `.transpose()`. Often we have the right entries in an array, but it might have the wrong shape. That's where these two methods come in."
   ]
  },
  {
   "cell_type": "code",
   "execution_count": 22,
   "metadata": {},
   "outputs": [
    {
     "data": {
      "text/plain": [
       "array([[ 0,  1,  2,  3,  4,  5,  6,  7],\n",
       "       [ 8,  9, 10, 11, 12, 13, 14, 15]])"
      ]
     },
     "execution_count": 22,
     "metadata": {},
     "output_type": "execute_result"
    }
   ],
   "source": [
    "# transpose is just the  ordinary transpose from mathematics.\n",
    "a.transpose()\n",
    "\n",
    "# reshape is more versatile.\n",
    "l = list(range(16))\n",
    "np.reshape(np.array(l), (2,8))"
   ]
  },
  {
   "cell_type": "markdown",
   "metadata": {},
   "source": [
    "## Example\n",
    "\n",
    "Let us see how we can take a matrix and make sure all the entries are between $0.0$ and $1.0$, by changing negative entries to $0.0$ and entries larger than $1.0$ to $1.0$.\n"
   ]
  },
  {
   "cell_type": "markdown",
   "metadata": {},
   "source": [
    "### Using `np.where()`\n",
    "\n",
    "The function `np.where()` takes two matrices `x` and `y`, and a condition and depending on the condition, for each position either takes the entry from `x` or `y`.\n"
   ]
  },
  {
   "cell_type": "code",
   "execution_count": null,
   "metadata": {},
   "outputs": [],
   "source": []
  },
  {
   "cell_type": "markdown",
   "metadata": {},
   "source": [
    "### using `np.clip()`"
   ]
  },
  {
   "cell_type": "code",
   "execution_count": null,
   "metadata": {},
   "outputs": [],
   "source": []
  },
  {
   "cell_type": "markdown",
   "metadata": {},
   "source": [
    "## Example\n",
    "\n",
    "Let us compute the determinant of a tridiagonal $n\\times n$-matrix with $5$ on the diagonal and $1$ on the superdiagonal and the subdiagonal.\n",
    "\n",
    "The function `np.diag()` creates a matrix of zeroes, but with one nonzero diagonal (which does not have to be the main diagonal). A list of the nonzero entries has to be supplied, and optionally which diagonal (if it is not the main diagonal); positive numbers indicate above the main diagonal and negative numbers indicate below the main diagonal."
   ]
  },
  {
   "cell_type": "code",
   "execution_count": 23,
   "metadata": {},
   "outputs": [
    {
     "data": {
      "text/plain": [
       "array([[5, 2, 0, 0, 0, 0, 0, 0, 0, 0],\n",
       "       [2, 5, 2, 0, 0, 0, 0, 0, 0, 0],\n",
       "       [0, 2, 5, 2, 0, 0, 0, 0, 0, 0],\n",
       "       [0, 0, 2, 5, 2, 0, 0, 0, 0, 0],\n",
       "       [0, 0, 0, 2, 5, 2, 0, 0, 0, 0],\n",
       "       [0, 0, 0, 0, 2, 5, 2, 0, 0, 0],\n",
       "       [0, 0, 0, 0, 0, 2, 5, 2, 0, 0],\n",
       "       [0, 0, 0, 0, 0, 0, 2, 5, 2, 0],\n",
       "       [0, 0, 0, 0, 0, 0, 0, 2, 5, 2],\n",
       "       [0, 0, 0, 0, 0, 0, 0, 0, 2, 5]])"
      ]
     },
     "execution_count": 23,
     "metadata": {},
     "output_type": "execute_result"
    }
   ],
   "source": [
    "# Create a function my_tridiag(n) that returns this matrix as a numpy array.\n",
    "def mytridiag(n):\n",
    "    # n is an integer giving the size of the matrix\n",
    "    return np.diag(n*[5]) + np.diag((n-1)*[2],1) + np.diag((n-1)*[2],-1)\n",
    "    \n",
    "mytridiag(10)\n"
   ]
  },
  {
   "cell_type": "markdown",
   "metadata": {},
   "source": [
    "## Linalg\n",
    "\n",
    "There are some useful linear routines for linear algebra in numpy. Note though that we have to prepend the name by `np.linalg` (not just `np`).\n",
    "\n",
    "1. `np.linalg.inv(A)` for inverting the matrix $A$.\n",
    "2. `np.linalg.solve(A,b)` for solving the linear system $Ax = b$.\n",
    "3. `np.linalg.eig(A)` computes the eigenvalues and associated eigenvectors of $A$. "
   ]
  }
 ],
 "metadata": {
  "kernelspec": {
   "display_name": "Python 3",
   "language": "python",
   "name": "python3"
  },
  "language_info": {
   "codemirror_mode": {
    "name": "ipython",
    "version": 3
   },
   "file_extension": ".py",
   "mimetype": "text/x-python",
   "name": "python",
   "nbconvert_exporter": "python",
   "pygments_lexer": "ipython3",
   "version": "3.6.5"
  }
 },
 "nbformat": 4,
 "nbformat_minor": 2
}
